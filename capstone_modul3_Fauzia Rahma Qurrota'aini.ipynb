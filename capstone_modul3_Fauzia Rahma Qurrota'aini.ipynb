{
 "cells": [
  {
   "cell_type": "markdown",
   "id": "ee0f35eb-791e-4588-b73f-b7e5fc2246e7",
   "metadata": {},
   "source": [
    "# Bab 1: Pendahuluan"
   ]
  },
  {
   "cell_type": "markdown",
   "id": "d21a8bca-b21e-493a-80c4-6c27ad0a0371",
   "metadata": {},
   "source": [
    "## Latar Belakang"
   ]
  },
  {
   "cell_type": "markdown",
   "id": "6709914d-6399-4127-bb35-e7857d46e978",
   "metadata": {},
   "source": [
    "Sebagai salah satu penyedia layanan transportasi publik terkemuka di Jakarta, Transjakarta terus berupaya mengoptimalkan operasional dan meningkatkan kualitas layanan bagi para penumpangnya. Untuk mencapai tujuan ini, manajemen Transjakarta memerlukan pemahaman yang mendalam tentang berbagai aspek bisnis mereka, termasuk pola penggunaan alat pembayaran. Analisis data transaksi menjadi salah satu cara paling efektif untuk mendapatkan wawasan berharga yang dapat mendorong pengambilan keputusan strategis.\n",
    "\n",
    "Sebagai seorang data analyst, saya diberi tugas untuk menganalisis data transaksi harian Transjakarta. Analisis ini diharapkan dapat memberikan gambaran yang jelas mengenai perilaku pembayaran penumpang, yang sangat penting untuk kemitraan dengan bank, program promosi, dan perencanaan keuangan."
   ]
  },
  {
   "cell_type": "markdown",
   "id": "d856e873-d696-4d7a-a546-84650a9c0a22",
   "metadata": {},
   "source": [
    "## Pernyataan Masalah"
   ]
  },
  {
   "cell_type": "markdown",
   "id": "9fa3d2c8-cfff-4253-9e2f-8c7865dfe75c",
   "metadata": {},
   "source": [
    "Perusahaan ingin mengetahui bagaimana pola penggunaan kartu pembayaran yang berbeda memengaruhi volume transaksi dan pendapatan. Informasi ini akan membantu manajemen Transjakarta untuk:\n",
    "\n",
    "1. Mengidentifikasi mitra bank atau penerbit kartu yang paling strategis.\n",
    "\n",
    "2. Merancang strategi promosi yang ditargetkan untuk meningkatkan penggunaan alat pembayaran tertentu.\n",
    "\n",
    "3. Mengalokasikan sumber daya dengan lebih efektif.\n",
    "\n",
    "Sebagai seorang data analyst, kita akan mencoba menjawab pertanyaan utama berikut:\n",
    "\n",
    "\"Bagaimana karakteristik penggunaan kartu pembayaran, terutama dari segi frekuensi dan pendapatan, dibandingkan satu sama lain, dan apa insight bisnis yang bisa diambil dari perbandingan ini?\"\n"
   ]
  },
  {
   "cell_type": "markdown",
   "id": "29cfd261-16df-487c-9659-0e2b67d858fc",
   "metadata": {},
   "source": [
    "# Bab 2: Data Understanding & Cleaning"
   ]
  },
  {
   "cell_type": "markdown",
   "id": "5d821eb6-7570-4be8-8a8b-aa97d45938dd",
   "metadata": {},
   "source": [
    "Langkah pertama adalah memahami struktur data dan membersihkannya dari anomali untuk memastikan analisis yang akurat. Sebelum memulai analisis, kita harus memperdalam pemahaman kita tentang dataset dengan menyelesaikan tahap pemahaman data. Proses ini akan mengidentifikasi anomali apa pun dalam dataset yang memerlukan penyelesaian selama tahap pembersihan data. Setiap tahap penanganan anomali akan disertai dengan justifikasi atas langkah-langkah yang diambil, baik dari segi pengetahuan domain maupun analisis statistik."
   ]
  },
  {
   "cell_type": "markdown",
   "id": "b71ca1aa-20b5-4b10-a231-6d531067f23d",
   "metadata": {},
   "source": [
    "## Data"
   ]
  },
  {
   "cell_type": "markdown",
   "id": "1ba3f3c4-affc-4e8d-b7c6-1666629b3fce",
   "metadata": {},
   "source": [
    "Pertanyaan di bab 1 akan kita jawab dengan menganalisis data transaksi operasional harian Transjakarta yang sudah dikumpulkan perusahaan. Data set dapat diakses di sini : https://drive.google.com/drive/folders/1S04hk5uHfHYe6J1S6fVqDunuja1Lk1Lo\n"
   ]
  },
  {
   "cell_type": "markdown",
   "id": "f34d3a11-6162-410e-9fc9-307faa04a430",
   "metadata": {},
   "source": [
    "## Import Library"
   ]
  },
  {
   "cell_type": "code",
   "execution_count": 1,
   "id": "c72d9429-de75-422c-9fb3-83ee75def475",
   "metadata": {},
   "outputs": [],
   "source": [
    "# Import library untuk manipulasi data (pandas) dan operasi numerik (numpy)\n",
    "import pandas as pd\n",
    "import numpy as np\n",
    "\n",
    "# Import library untuk visualisasi data (matplotlib dan seaborn)\n",
    "import matplotlib.pyplot as plt\n",
    "import seaborn as sns\n",
    "\n",
    "# Import library untuk uji statistik (scipy.stats)\n",
    "from scipy.stats import ttest_ind\n",
    "\n",
    "# Import library untuk mengabaikan pesan peringatan\n",
    "import warnings\n",
    "warnings.filterwarnings(\"ignore\")"
   ]
  },
  {
   "cell_type": "markdown",
   "id": "19682ade-2f14-42e6-a8d7-0666693bf81e",
   "metadata": {},
   "source": [
    "Data set ini berisi informasi terkait transaksi, perjalanan, dan data anonim dari kartu pembayaran yang digunakan oleh penumpang saat bertransaksi di Transjakarta. Data ini dikumpulkan untuk memahami pola perilaku pembayaran pelanggan dan mengoptimalkan layanan.\n",
    "Ada 22 kolom di dalam dataset ini, yang dapat dikategorikan sebagai berikut:\n",
    "\n",
    "1. Informasi Transaksi:\n",
    "  \n",
    "•\ttransID: ID unik untuk setiap transaksi.\n",
    "\n",
    "•\tpayAmount: Jumlah uang yang dibayarkan untuk transaksi.\n",
    "\n",
    "2.\tInformasi Kartu Pembayaran:\n",
    "  \n",
    "•\tpayCardID: ID unik dari kartu yang digunakan.\n",
    "\n",
    "•\tpayCardBank: Nama bank atau penerbit kartu.\n",
    "\n",
    "•\tpayCardName: Nama pemilik kartu.\n",
    "\n",
    "•\tpayCardSex: Jenis kelamin pemilik kartu.\n",
    "\n",
    "•\tpayCardBirthDate: Tahun lahir pemilik kartu.\n",
    "\n",
    "3.\tInformasi Perjalanan:\n",
    "  \n",
    "•\tcorridorID: ID unik untuk setiap rute atau koridor bus.\n",
    "\n",
    "•\tcorridorName: Nama rute atau koridor bus.\n",
    "\n",
    "•\tdirection: Arah perjalanan bus.\n",
    "\n",
    "•\ttapInStops: ID halte masuk.\n",
    "\n",
    "•\ttapInStopsName: Nama halte masuk.\n",
    "\n",
    "•\ttapInStopsLat: Koordinat latitude halte masuk.\n",
    "\n",
    "•\ttapInStopsLon: Koordinat longitude halte masuk.\n",
    "\n",
    "•\tstopStartSeq: Nomor urut halte masuk dalam rute.\n",
    "\n",
    "•\ttapInTime: Tanggal dan waktu masuk ke dalam bus.\n",
    "\n",
    "•\ttapOutStops: ID halte keluar.\n",
    "\n",
    "•\ttapOutStopsName: Nama halte keluar.\n",
    "\n",
    "•\ttapOutStopsLat: Koordinat latitude halte keluar.\n",
    "\n",
    "•\ttapOutStopsLon: Koordinat longitude halte keluar.\n",
    "\n",
    "•\tstopEndSeq: Nomor urut halte keluar dalam rute.\n",
    "\n",
    "•\ttapOutTime: Tanggal dan waktu keluar dari bus.\n",
    "\n"
   ]
  },
  {
   "cell_type": "markdown",
   "id": "4376ad7b-49d7-4270-8833-2a4700832815",
   "metadata": {},
   "source": [
    "## Memuat & Eksplorasi Data"
   ]
  },
  {
   "cell_type": "markdown",
   "id": "80f81728-8e94-4c22-82e3-22e6953e816b",
   "metadata": {},
   "source": [
    "Pertama, mari kita lihat informasi umum dari dataset Transjakarta.csv, termasuk 5 baris teratas dan terbawahnya :"
   ]
  },
  {
   "cell_type": "code",
   "execution_count": 2,
   "id": "093f756b-5fac-4939-b706-e708536fef31",
   "metadata": {},
   "outputs": [
    {
     "name": "stdout",
     "output_type": "stream",
     "text": [
      "5 baris pertama:\n",
      "          transID         payCardID payCardBank      payCardName payCardSex  \\\n",
      "0  EIIW227B8L34VB   180062659848800      emoney   Bajragin Usada          M   \n",
      "1  LGXO740D2N47GZ  4885331907664776         dki     Gandi Widodo          F   \n",
      "2  DJWR385V2U57TO  4996225095064169         dki    Emong Wastuti          F   \n",
      "3  JTUZ800U7C86EH      639099174703       flazz     Surya Wacana          F   \n",
      "4  VMLO535V7F95NJ      570928206772       flazz  Embuh Mardhiyah          M   \n",
      "\n",
      "   payCardBirthDate corridorID                              corridorName  \\\n",
      "0              2008          5                     Matraman Baru - Ancol   \n",
      "1              1997         6C  Stasiun Tebet - Karet via Patra Kuningan   \n",
      "2              1992        R1A                        Pantai Maju - Kota   \n",
      "3              1978        11D       Pulo Gebang - Pulo Gadung 2 via PIK   \n",
      "4              1982         12                     Tanjung Priok - Pluit   \n",
      "\n",
      "   direction tapInStops  ... tapInStopsLon  stopStartSeq            tapInTime  \\\n",
      "0        1.0     P00142  ...     106.84402             7  2023-04-03 05:21:44   \n",
      "1        0.0    B01963P  ...     106.83302            13  2023-04-03 05:42:44   \n",
      "2        0.0    B00499P  ...     106.81435            38  2023-04-03 05:59:06   \n",
      "3        0.0    B05587P  ...     106.93526            23  2023-04-03 05:44:51   \n",
      "4        0.0     P00239  ...     106.88900             5  2023-04-03 06:17:35   \n",
      "\n",
      "   tapOutStops        tapOutStopsName tapOutStopsLat tapOutStopsLon  \\\n",
      "0       P00253                Tegalan      -6.203101      106.85715   \n",
      "1      B03307P    Sampoerna Strategic      -6.217152      106.81892   \n",
      "2      B04962P  Simpang Kunir Kemukus      -6.133731      106.81475   \n",
      "3      B03090P      Raya Penggilingan      -6.183068      106.93194   \n",
      "4       P00098       Kali Besar Barat      -6.135355      106.81143   \n",
      "\n",
      "   stopEndSeq           tapOutTime  payAmount  \n",
      "0        12.0  2023-04-03 06:00:53     3500.0  \n",
      "1        21.0  2023-04-03 06:40:01     3500.0  \n",
      "2        39.0  2023-04-03 06:50:55     3500.0  \n",
      "3        29.0  2023-04-03 06:28:16     3500.0  \n",
      "4        15.0  2023-04-03 06:57:03     3500.0  \n",
      "\n",
      "[5 rows x 22 columns]\n",
      "\n",
      "5 baris terakhir:\n",
      "              transID            payCardID payCardBank  \\\n",
      "37895  ZWEC949B8Q87QG  4685818286724028395      brizzi   \n",
      "37896  YHHK837P6Y95GN     6502902290603767         dki   \n",
      "37897  YXPP627N4G95HO      213159426675861      emoney   \n",
      "37898  RGVK175U2U98UV      377840859133591      emoney   \n",
      "37899  FMZZ963S4B68ZP         501862539795       flazz   \n",
      "\n",
      "                  payCardName payCardSex  payCardBirthDate corridorID  \\\n",
      "37895         Kamila Mahendra          F              2004         6B   \n",
      "37896            Titi Siregar          M              1974         9N   \n",
      "37897  drg. Zahra Nashiruddin          F              1976         1T   \n",
      "37898            Ana Agustina          M              1976     JAK.13   \n",
      "37899       drg. Leo Najmudin          F              1985         13   \n",
      "\n",
      "                            corridorName  direction tapInStops  ...  \\\n",
      "37895  Ragunan - MH Thamrin via Semanggi        1.0     P00261  ...   \n",
      "37896             Pinang Ranti - Pramuka        1.0     P00064  ...   \n",
      "37897               Cibubur - Balai Kota        1.0    B02873P  ...   \n",
      "37898        Tanah Abang - Jembatan Lima        1.0    B02505P  ...   \n",
      "37899                  Ciledug - Tendean        0.0     P00001  ...   \n",
      "\n",
      "      tapInStopsLon  stopStartSeq            tapInTime  tapOutStops  \\\n",
      "37895     106.82309             2  2023-04-21 18:18:37       P00228   \n",
      "37896     106.88116             1  2023-04-18 21:52:31       P00179   \n",
      "37897     106.81676            12  2023-04-04 10:29:47      B00226P   \n",
      "37898     106.80954            33  2023-04-15 19:59:26      B01787P   \n",
      "37899     106.74786             2  2023-04-12 21:08:12       P00106   \n",
      "\n",
      "       tapOutStopsName tapOutStopsLat tapOutStopsLon  stopEndSeq  \\\n",
      "37895           SMK 57      -6.290967      106.82365        13.0   \n",
      "37896     Pinang Ranti      -6.291075      106.88634         2.0   \n",
      "37897  Buperta Cibubur      -6.370321      106.89628        14.0   \n",
      "37898       JPO Blok G      -6.188861      106.81135        34.0   \n",
      "37899   Kebayoran Lama      -6.238340      106.77752         7.0   \n",
      "\n",
      "                tapOutTime  payAmount  \n",
      "37895  2023-04-21 19:55:49     3500.0  \n",
      "37896  2023-04-18 22:28:22     3500.0  \n",
      "37897  2023-04-04 13:27:25    20000.0  \n",
      "37898  2023-04-15 20:27:50        0.0  \n",
      "37899  2023-04-12 21:34:53     3500.0  \n",
      "\n",
      "[5 rows x 22 columns]\n"
     ]
    }
   ],
   "source": [
    "# Memuat data dari file CSV ke dalam DataFrame dengan nama 'df'\n",
    "df = pd.read_csv('Transjakarta.csv')\n",
    "\n",
    "# Menampilkan 5 baris pertama data untuk melihat isi kolom dan format data\n",
    "print(\"5 baris pertama:\")\n",
    "print(df.head())\n",
    "\n",
    "# Menampilkan 5 baris terakhir data untuk melihat konsistensi data di bagian akhir\n",
    "print(\"\\n5 baris terakhir:\")\n",
    "print(df.tail())"
   ]
  },
  {
   "cell_type": "code",
   "execution_count": 3,
   "id": "2eff534e-44ab-4a52-8153-f807dbb4bdd1",
   "metadata": {},
   "outputs": [
    {
     "data": {
      "text/html": [
       "<div>\n",
       "<style scoped>\n",
       "    .dataframe tbody tr th:only-of-type {\n",
       "        vertical-align: middle;\n",
       "    }\n",
       "\n",
       "    .dataframe tbody tr th {\n",
       "        vertical-align: top;\n",
       "    }\n",
       "\n",
       "    .dataframe thead th {\n",
       "        text-align: right;\n",
       "    }\n",
       "</style>\n",
       "<table border=\"1\" class=\"dataframe\">\n",
       "  <thead>\n",
       "    <tr style=\"text-align: right;\">\n",
       "      <th></th>\n",
       "      <th>transID</th>\n",
       "      <th>payCardID</th>\n",
       "      <th>payCardBank</th>\n",
       "      <th>payCardName</th>\n",
       "      <th>payCardSex</th>\n",
       "      <th>payCardBirthDate</th>\n",
       "      <th>corridorID</th>\n",
       "      <th>corridorName</th>\n",
       "      <th>direction</th>\n",
       "      <th>tapInStops</th>\n",
       "      <th>...</th>\n",
       "      <th>tapInStopsLon</th>\n",
       "      <th>stopStartSeq</th>\n",
       "      <th>tapInTime</th>\n",
       "      <th>tapOutStops</th>\n",
       "      <th>tapOutStopsName</th>\n",
       "      <th>tapOutStopsLat</th>\n",
       "      <th>tapOutStopsLon</th>\n",
       "      <th>stopEndSeq</th>\n",
       "      <th>tapOutTime</th>\n",
       "      <th>payAmount</th>\n",
       "    </tr>\n",
       "  </thead>\n",
       "  <tbody>\n",
       "    <tr>\n",
       "      <th>0</th>\n",
       "      <td>EIIW227B8L34VB</td>\n",
       "      <td>180062659848800</td>\n",
       "      <td>emoney</td>\n",
       "      <td>Bajragin Usada</td>\n",
       "      <td>M</td>\n",
       "      <td>2008</td>\n",
       "      <td>5</td>\n",
       "      <td>Matraman Baru - Ancol</td>\n",
       "      <td>1.0</td>\n",
       "      <td>P00142</td>\n",
       "      <td>...</td>\n",
       "      <td>106.84402</td>\n",
       "      <td>7</td>\n",
       "      <td>2023-04-03 05:21:44</td>\n",
       "      <td>P00253</td>\n",
       "      <td>Tegalan</td>\n",
       "      <td>-6.203101</td>\n",
       "      <td>106.85715</td>\n",
       "      <td>12.0</td>\n",
       "      <td>2023-04-03 06:00:53</td>\n",
       "      <td>3500.0</td>\n",
       "    </tr>\n",
       "    <tr>\n",
       "      <th>1</th>\n",
       "      <td>LGXO740D2N47GZ</td>\n",
       "      <td>4885331907664776</td>\n",
       "      <td>dki</td>\n",
       "      <td>Gandi Widodo</td>\n",
       "      <td>F</td>\n",
       "      <td>1997</td>\n",
       "      <td>6C</td>\n",
       "      <td>Stasiun Tebet - Karet via Patra Kuningan</td>\n",
       "      <td>0.0</td>\n",
       "      <td>B01963P</td>\n",
       "      <td>...</td>\n",
       "      <td>106.83302</td>\n",
       "      <td>13</td>\n",
       "      <td>2023-04-03 05:42:44</td>\n",
       "      <td>B03307P</td>\n",
       "      <td>Sampoerna Strategic</td>\n",
       "      <td>-6.217152</td>\n",
       "      <td>106.81892</td>\n",
       "      <td>21.0</td>\n",
       "      <td>2023-04-03 06:40:01</td>\n",
       "      <td>3500.0</td>\n",
       "    </tr>\n",
       "    <tr>\n",
       "      <th>2</th>\n",
       "      <td>DJWR385V2U57TO</td>\n",
       "      <td>4996225095064169</td>\n",
       "      <td>dki</td>\n",
       "      <td>Emong Wastuti</td>\n",
       "      <td>F</td>\n",
       "      <td>1992</td>\n",
       "      <td>R1A</td>\n",
       "      <td>Pantai Maju - Kota</td>\n",
       "      <td>0.0</td>\n",
       "      <td>B00499P</td>\n",
       "      <td>...</td>\n",
       "      <td>106.81435</td>\n",
       "      <td>38</td>\n",
       "      <td>2023-04-03 05:59:06</td>\n",
       "      <td>B04962P</td>\n",
       "      <td>Simpang Kunir Kemukus</td>\n",
       "      <td>-6.133731</td>\n",
       "      <td>106.81475</td>\n",
       "      <td>39.0</td>\n",
       "      <td>2023-04-03 06:50:55</td>\n",
       "      <td>3500.0</td>\n",
       "    </tr>\n",
       "    <tr>\n",
       "      <th>3</th>\n",
       "      <td>JTUZ800U7C86EH</td>\n",
       "      <td>639099174703</td>\n",
       "      <td>flazz</td>\n",
       "      <td>Surya Wacana</td>\n",
       "      <td>F</td>\n",
       "      <td>1978</td>\n",
       "      <td>11D</td>\n",
       "      <td>Pulo Gebang - Pulo Gadung 2 via PIK</td>\n",
       "      <td>0.0</td>\n",
       "      <td>B05587P</td>\n",
       "      <td>...</td>\n",
       "      <td>106.93526</td>\n",
       "      <td>23</td>\n",
       "      <td>2023-04-03 05:44:51</td>\n",
       "      <td>B03090P</td>\n",
       "      <td>Raya Penggilingan</td>\n",
       "      <td>-6.183068</td>\n",
       "      <td>106.93194</td>\n",
       "      <td>29.0</td>\n",
       "      <td>2023-04-03 06:28:16</td>\n",
       "      <td>3500.0</td>\n",
       "    </tr>\n",
       "    <tr>\n",
       "      <th>4</th>\n",
       "      <td>VMLO535V7F95NJ</td>\n",
       "      <td>570928206772</td>\n",
       "      <td>flazz</td>\n",
       "      <td>Embuh Mardhiyah</td>\n",
       "      <td>M</td>\n",
       "      <td>1982</td>\n",
       "      <td>12</td>\n",
       "      <td>Tanjung Priok - Pluit</td>\n",
       "      <td>0.0</td>\n",
       "      <td>P00239</td>\n",
       "      <td>...</td>\n",
       "      <td>106.88900</td>\n",
       "      <td>5</td>\n",
       "      <td>2023-04-03 06:17:35</td>\n",
       "      <td>P00098</td>\n",
       "      <td>Kali Besar Barat</td>\n",
       "      <td>-6.135355</td>\n",
       "      <td>106.81143</td>\n",
       "      <td>15.0</td>\n",
       "      <td>2023-04-03 06:57:03</td>\n",
       "      <td>3500.0</td>\n",
       "    </tr>\n",
       "  </tbody>\n",
       "</table>\n",
       "<p>5 rows × 22 columns</p>\n",
       "</div>"
      ],
      "text/plain": [
       "          transID         payCardID payCardBank      payCardName payCardSex  \\\n",
       "0  EIIW227B8L34VB   180062659848800      emoney   Bajragin Usada          M   \n",
       "1  LGXO740D2N47GZ  4885331907664776         dki     Gandi Widodo          F   \n",
       "2  DJWR385V2U57TO  4996225095064169         dki    Emong Wastuti          F   \n",
       "3  JTUZ800U7C86EH      639099174703       flazz     Surya Wacana          F   \n",
       "4  VMLO535V7F95NJ      570928206772       flazz  Embuh Mardhiyah          M   \n",
       "\n",
       "   payCardBirthDate corridorID                              corridorName  \\\n",
       "0              2008          5                     Matraman Baru - Ancol   \n",
       "1              1997         6C  Stasiun Tebet - Karet via Patra Kuningan   \n",
       "2              1992        R1A                        Pantai Maju - Kota   \n",
       "3              1978        11D       Pulo Gebang - Pulo Gadung 2 via PIK   \n",
       "4              1982         12                     Tanjung Priok - Pluit   \n",
       "\n",
       "   direction tapInStops  ... tapInStopsLon  stopStartSeq            tapInTime  \\\n",
       "0        1.0     P00142  ...     106.84402             7  2023-04-03 05:21:44   \n",
       "1        0.0    B01963P  ...     106.83302            13  2023-04-03 05:42:44   \n",
       "2        0.0    B00499P  ...     106.81435            38  2023-04-03 05:59:06   \n",
       "3        0.0    B05587P  ...     106.93526            23  2023-04-03 05:44:51   \n",
       "4        0.0     P00239  ...     106.88900             5  2023-04-03 06:17:35   \n",
       "\n",
       "   tapOutStops        tapOutStopsName tapOutStopsLat tapOutStopsLon  \\\n",
       "0       P00253                Tegalan      -6.203101      106.85715   \n",
       "1      B03307P    Sampoerna Strategic      -6.217152      106.81892   \n",
       "2      B04962P  Simpang Kunir Kemukus      -6.133731      106.81475   \n",
       "3      B03090P      Raya Penggilingan      -6.183068      106.93194   \n",
       "4       P00098       Kali Besar Barat      -6.135355      106.81143   \n",
       "\n",
       "   stopEndSeq           tapOutTime  payAmount  \n",
       "0        12.0  2023-04-03 06:00:53     3500.0  \n",
       "1        21.0  2023-04-03 06:40:01     3500.0  \n",
       "2        39.0  2023-04-03 06:50:55     3500.0  \n",
       "3        29.0  2023-04-03 06:28:16     3500.0  \n",
       "4        15.0  2023-04-03 06:57:03     3500.0  \n",
       "\n",
       "[5 rows x 22 columns]"
      ]
     },
     "metadata": {},
     "output_type": "display_data"
    },
    {
     "data": {
      "text/html": [
       "<div>\n",
       "<style scoped>\n",
       "    .dataframe tbody tr th:only-of-type {\n",
       "        vertical-align: middle;\n",
       "    }\n",
       "\n",
       "    .dataframe tbody tr th {\n",
       "        vertical-align: top;\n",
       "    }\n",
       "\n",
       "    .dataframe thead th {\n",
       "        text-align: right;\n",
       "    }\n",
       "</style>\n",
       "<table border=\"1\" class=\"dataframe\">\n",
       "  <thead>\n",
       "    <tr style=\"text-align: right;\">\n",
       "      <th></th>\n",
       "      <th>transID</th>\n",
       "      <th>payCardID</th>\n",
       "      <th>payCardBank</th>\n",
       "      <th>payCardName</th>\n",
       "      <th>payCardSex</th>\n",
       "      <th>payCardBirthDate</th>\n",
       "      <th>corridorID</th>\n",
       "      <th>corridorName</th>\n",
       "      <th>direction</th>\n",
       "      <th>tapInStops</th>\n",
       "      <th>...</th>\n",
       "      <th>tapInStopsLon</th>\n",
       "      <th>stopStartSeq</th>\n",
       "      <th>tapInTime</th>\n",
       "      <th>tapOutStops</th>\n",
       "      <th>tapOutStopsName</th>\n",
       "      <th>tapOutStopsLat</th>\n",
       "      <th>tapOutStopsLon</th>\n",
       "      <th>stopEndSeq</th>\n",
       "      <th>tapOutTime</th>\n",
       "      <th>payAmount</th>\n",
       "    </tr>\n",
       "  </thead>\n",
       "  <tbody>\n",
       "    <tr>\n",
       "      <th>37895</th>\n",
       "      <td>ZWEC949B8Q87QG</td>\n",
       "      <td>4685818286724028395</td>\n",
       "      <td>brizzi</td>\n",
       "      <td>Kamila Mahendra</td>\n",
       "      <td>F</td>\n",
       "      <td>2004</td>\n",
       "      <td>6B</td>\n",
       "      <td>Ragunan - MH Thamrin via Semanggi</td>\n",
       "      <td>1.0</td>\n",
       "      <td>P00261</td>\n",
       "      <td>...</td>\n",
       "      <td>106.82309</td>\n",
       "      <td>2</td>\n",
       "      <td>2023-04-21 18:18:37</td>\n",
       "      <td>P00228</td>\n",
       "      <td>SMK 57</td>\n",
       "      <td>-6.290967</td>\n",
       "      <td>106.82365</td>\n",
       "      <td>13.0</td>\n",
       "      <td>2023-04-21 19:55:49</td>\n",
       "      <td>3500.0</td>\n",
       "    </tr>\n",
       "    <tr>\n",
       "      <th>37896</th>\n",
       "      <td>YHHK837P6Y95GN</td>\n",
       "      <td>6502902290603767</td>\n",
       "      <td>dki</td>\n",
       "      <td>Titi Siregar</td>\n",
       "      <td>M</td>\n",
       "      <td>1974</td>\n",
       "      <td>9N</td>\n",
       "      <td>Pinang Ranti - Pramuka</td>\n",
       "      <td>1.0</td>\n",
       "      <td>P00064</td>\n",
       "      <td>...</td>\n",
       "      <td>106.88116</td>\n",
       "      <td>1</td>\n",
       "      <td>2023-04-18 21:52:31</td>\n",
       "      <td>P00179</td>\n",
       "      <td>Pinang Ranti</td>\n",
       "      <td>-6.291075</td>\n",
       "      <td>106.88634</td>\n",
       "      <td>2.0</td>\n",
       "      <td>2023-04-18 22:28:22</td>\n",
       "      <td>3500.0</td>\n",
       "    </tr>\n",
       "    <tr>\n",
       "      <th>37897</th>\n",
       "      <td>YXPP627N4G95HO</td>\n",
       "      <td>213159426675861</td>\n",
       "      <td>emoney</td>\n",
       "      <td>drg. Zahra Nashiruddin</td>\n",
       "      <td>F</td>\n",
       "      <td>1976</td>\n",
       "      <td>1T</td>\n",
       "      <td>Cibubur - Balai Kota</td>\n",
       "      <td>1.0</td>\n",
       "      <td>B02873P</td>\n",
       "      <td>...</td>\n",
       "      <td>106.81676</td>\n",
       "      <td>12</td>\n",
       "      <td>2023-04-04 10:29:47</td>\n",
       "      <td>B00226P</td>\n",
       "      <td>Buperta Cibubur</td>\n",
       "      <td>-6.370321</td>\n",
       "      <td>106.89628</td>\n",
       "      <td>14.0</td>\n",
       "      <td>2023-04-04 13:27:25</td>\n",
       "      <td>20000.0</td>\n",
       "    </tr>\n",
       "    <tr>\n",
       "      <th>37898</th>\n",
       "      <td>RGVK175U2U98UV</td>\n",
       "      <td>377840859133591</td>\n",
       "      <td>emoney</td>\n",
       "      <td>Ana Agustina</td>\n",
       "      <td>M</td>\n",
       "      <td>1976</td>\n",
       "      <td>JAK.13</td>\n",
       "      <td>Tanah Abang - Jembatan Lima</td>\n",
       "      <td>1.0</td>\n",
       "      <td>B02505P</td>\n",
       "      <td>...</td>\n",
       "      <td>106.80954</td>\n",
       "      <td>33</td>\n",
       "      <td>2023-04-15 19:59:26</td>\n",
       "      <td>B01787P</td>\n",
       "      <td>JPO Blok G</td>\n",
       "      <td>-6.188861</td>\n",
       "      <td>106.81135</td>\n",
       "      <td>34.0</td>\n",
       "      <td>2023-04-15 20:27:50</td>\n",
       "      <td>0.0</td>\n",
       "    </tr>\n",
       "    <tr>\n",
       "      <th>37899</th>\n",
       "      <td>FMZZ963S4B68ZP</td>\n",
       "      <td>501862539795</td>\n",
       "      <td>flazz</td>\n",
       "      <td>drg. Leo Najmudin</td>\n",
       "      <td>F</td>\n",
       "      <td>1985</td>\n",
       "      <td>13</td>\n",
       "      <td>Ciledug - Tendean</td>\n",
       "      <td>0.0</td>\n",
       "      <td>P00001</td>\n",
       "      <td>...</td>\n",
       "      <td>106.74786</td>\n",
       "      <td>2</td>\n",
       "      <td>2023-04-12 21:08:12</td>\n",
       "      <td>P00106</td>\n",
       "      <td>Kebayoran Lama</td>\n",
       "      <td>-6.238340</td>\n",
       "      <td>106.77752</td>\n",
       "      <td>7.0</td>\n",
       "      <td>2023-04-12 21:34:53</td>\n",
       "      <td>3500.0</td>\n",
       "    </tr>\n",
       "  </tbody>\n",
       "</table>\n",
       "<p>5 rows × 22 columns</p>\n",
       "</div>"
      ],
      "text/plain": [
       "              transID            payCardID payCardBank  \\\n",
       "37895  ZWEC949B8Q87QG  4685818286724028395      brizzi   \n",
       "37896  YHHK837P6Y95GN     6502902290603767         dki   \n",
       "37897  YXPP627N4G95HO      213159426675861      emoney   \n",
       "37898  RGVK175U2U98UV      377840859133591      emoney   \n",
       "37899  FMZZ963S4B68ZP         501862539795       flazz   \n",
       "\n",
       "                  payCardName payCardSex  payCardBirthDate corridorID  \\\n",
       "37895         Kamila Mahendra          F              2004         6B   \n",
       "37896            Titi Siregar          M              1974         9N   \n",
       "37897  drg. Zahra Nashiruddin          F              1976         1T   \n",
       "37898            Ana Agustina          M              1976     JAK.13   \n",
       "37899       drg. Leo Najmudin          F              1985         13   \n",
       "\n",
       "                            corridorName  direction tapInStops  ...  \\\n",
       "37895  Ragunan - MH Thamrin via Semanggi        1.0     P00261  ...   \n",
       "37896             Pinang Ranti - Pramuka        1.0     P00064  ...   \n",
       "37897               Cibubur - Balai Kota        1.0    B02873P  ...   \n",
       "37898        Tanah Abang - Jembatan Lima        1.0    B02505P  ...   \n",
       "37899                  Ciledug - Tendean        0.0     P00001  ...   \n",
       "\n",
       "      tapInStopsLon  stopStartSeq            tapInTime  tapOutStops  \\\n",
       "37895     106.82309             2  2023-04-21 18:18:37       P00228   \n",
       "37896     106.88116             1  2023-04-18 21:52:31       P00179   \n",
       "37897     106.81676            12  2023-04-04 10:29:47      B00226P   \n",
       "37898     106.80954            33  2023-04-15 19:59:26      B01787P   \n",
       "37899     106.74786             2  2023-04-12 21:08:12       P00106   \n",
       "\n",
       "       tapOutStopsName tapOutStopsLat tapOutStopsLon  stopEndSeq  \\\n",
       "37895           SMK 57      -6.290967      106.82365        13.0   \n",
       "37896     Pinang Ranti      -6.291075      106.88634         2.0   \n",
       "37897  Buperta Cibubur      -6.370321      106.89628        14.0   \n",
       "37898       JPO Blok G      -6.188861      106.81135        34.0   \n",
       "37899   Kebayoran Lama      -6.238340      106.77752         7.0   \n",
       "\n",
       "                tapOutTime  payAmount  \n",
       "37895  2023-04-21 19:55:49     3500.0  \n",
       "37896  2023-04-18 22:28:22     3500.0  \n",
       "37897  2023-04-04 13:27:25    20000.0  \n",
       "37898  2023-04-15 20:27:50        0.0  \n",
       "37899  2023-04-12 21:34:53     3500.0  \n",
       "\n",
       "[5 rows x 22 columns]"
      ]
     },
     "metadata": {},
     "output_type": "display_data"
    }
   ],
   "source": [
    "display(df.head(),df.tail())"
   ]
  },
  {
   "cell_type": "code",
   "execution_count": 4,
   "id": "697195b8-3ba3-43c4-a0d6-d8708844b84e",
   "metadata": {},
   "outputs": [
    {
     "name": "stdout",
     "output_type": "stream",
     "text": [
      "\n",
      "Informasi DataFrame:\n",
      "<class 'pandas.core.frame.DataFrame'>\n",
      "RangeIndex: 37900 entries, 0 to 37899\n",
      "Data columns (total 22 columns):\n",
      " #   Column            Non-Null Count  Dtype  \n",
      "---  ------            --------------  -----  \n",
      " 0   transID           37900 non-null  object \n",
      " 1   payCardID         37900 non-null  int64  \n",
      " 2   payCardBank       37900 non-null  object \n",
      " 3   payCardName       37900 non-null  object \n",
      " 4   payCardSex        37900 non-null  object \n",
      " 5   payCardBirthDate  37900 non-null  int64  \n",
      " 6   corridorID        36643 non-null  object \n",
      " 7   corridorName      35970 non-null  object \n",
      " 8   direction         37900 non-null  float64\n",
      " 9   tapInStops        36687 non-null  object \n",
      " 10  tapInStopsName    37900 non-null  object \n",
      " 11  tapInStopsLat     37900 non-null  float64\n",
      " 12  tapInStopsLon     37900 non-null  float64\n",
      " 13  stopStartSeq      37900 non-null  int64  \n",
      " 14  tapInTime         37900 non-null  object \n",
      " 15  tapOutStops       35611 non-null  object \n",
      " 16  tapOutStopsName   36556 non-null  object \n",
      " 17  tapOutStopsLat    36556 non-null  float64\n",
      " 18  tapOutStopsLon    36556 non-null  float64\n",
      " 19  stopEndSeq        36556 non-null  float64\n",
      " 20  tapOutTime        36556 non-null  object \n",
      " 21  payAmount         36893 non-null  float64\n",
      "dtypes: float64(7), int64(3), object(12)\n",
      "memory usage: 6.4+ MB\n",
      "None\n"
     ]
    }
   ],
   "source": [
    "# Menampilkan informasi ringkas DataFrame, seperti jumlah baris, kolom, tipe data, dan nilai non-null\n",
    "print(\"\\nInformasi DataFrame:\")\n",
    "print(df.info())"
   ]
  },
  {
   "cell_type": "code",
   "execution_count": 5,
   "id": "2f67c499-f817-4180-b175-6fec733a69d4",
   "metadata": {},
   "outputs": [
    {
     "data": {
      "text/html": [
       "<div>\n",
       "<style scoped>\n",
       "    .dataframe tbody tr th:only-of-type {\n",
       "        vertical-align: middle;\n",
       "    }\n",
       "\n",
       "    .dataframe tbody tr th {\n",
       "        vertical-align: top;\n",
       "    }\n",
       "\n",
       "    .dataframe thead th {\n",
       "        text-align: right;\n",
       "    }\n",
       "</style>\n",
       "<table border=\"1\" class=\"dataframe\">\n",
       "  <thead>\n",
       "    <tr style=\"text-align: right;\">\n",
       "      <th></th>\n",
       "      <th>payCardID</th>\n",
       "      <th>payCardBirthDate</th>\n",
       "      <th>direction</th>\n",
       "      <th>tapInStopsLat</th>\n",
       "      <th>tapInStopsLon</th>\n",
       "      <th>stopStartSeq</th>\n",
       "      <th>tapOutStopsLat</th>\n",
       "      <th>tapOutStopsLon</th>\n",
       "      <th>stopEndSeq</th>\n",
       "      <th>payAmount</th>\n",
       "    </tr>\n",
       "  </thead>\n",
       "  <tbody>\n",
       "    <tr>\n",
       "      <th>count</th>\n",
       "      <td>3.790000e+04</td>\n",
       "      <td>37900.000000</td>\n",
       "      <td>37900.000000</td>\n",
       "      <td>37900.000000</td>\n",
       "      <td>37900.000000</td>\n",
       "      <td>37900.000000</td>\n",
       "      <td>36556.000000</td>\n",
       "      <td>36556.000000</td>\n",
       "      <td>36556.000000</td>\n",
       "      <td>36893.000000</td>\n",
       "    </tr>\n",
       "    <tr>\n",
       "      <th>mean</th>\n",
       "      <td>4.250060e+17</td>\n",
       "      <td>1990.089314</td>\n",
       "      <td>0.500633</td>\n",
       "      <td>-6.214838</td>\n",
       "      <td>106.841554</td>\n",
       "      <td>13.572480</td>\n",
       "      <td>-6.214651</td>\n",
       "      <td>106.841233</td>\n",
       "      <td>21.219909</td>\n",
       "      <td>2699.712683</td>\n",
       "    </tr>\n",
       "    <tr>\n",
       "      <th>std</th>\n",
       "      <td>1.321699e+18</td>\n",
       "      <td>13.051482</td>\n",
       "      <td>0.500006</td>\n",
       "      <td>0.057911</td>\n",
       "      <td>0.060369</td>\n",
       "      <td>12.237623</td>\n",
       "      <td>0.059022</td>\n",
       "      <td>0.060999</td>\n",
       "      <td>13.800689</td>\n",
       "      <td>4212.225592</td>\n",
       "    </tr>\n",
       "    <tr>\n",
       "      <th>min</th>\n",
       "      <td>6.040368e+10</td>\n",
       "      <td>1946.000000</td>\n",
       "      <td>0.000000</td>\n",
       "      <td>-6.394973</td>\n",
       "      <td>106.614730</td>\n",
       "      <td>0.000000</td>\n",
       "      <td>-6.394973</td>\n",
       "      <td>106.614730</td>\n",
       "      <td>1.000000</td>\n",
       "      <td>0.000000</td>\n",
       "    </tr>\n",
       "    <tr>\n",
       "      <th>25%</th>\n",
       "      <td>1.800442e+14</td>\n",
       "      <td>1982.000000</td>\n",
       "      <td>0.000000</td>\n",
       "      <td>-6.245863</td>\n",
       "      <td>106.803470</td>\n",
       "      <td>4.000000</td>\n",
       "      <td>-6.247225</td>\n",
       "      <td>106.801750</td>\n",
       "      <td>11.000000</td>\n",
       "      <td>0.000000</td>\n",
       "    </tr>\n",
       "    <tr>\n",
       "      <th>50%</th>\n",
       "      <td>3.507947e+15</td>\n",
       "      <td>1990.000000</td>\n",
       "      <td>1.000000</td>\n",
       "      <td>-6.214587</td>\n",
       "      <td>106.834830</td>\n",
       "      <td>10.000000</td>\n",
       "      <td>-6.214718</td>\n",
       "      <td>106.834580</td>\n",
       "      <td>18.000000</td>\n",
       "      <td>3500.000000</td>\n",
       "    </tr>\n",
       "    <tr>\n",
       "      <th>75%</th>\n",
       "      <td>4.699023e+15</td>\n",
       "      <td>2001.000000</td>\n",
       "      <td>1.000000</td>\n",
       "      <td>-6.175528</td>\n",
       "      <td>106.882270</td>\n",
       "      <td>19.000000</td>\n",
       "      <td>-6.174736</td>\n",
       "      <td>106.883030</td>\n",
       "      <td>29.000000</td>\n",
       "      <td>3500.000000</td>\n",
       "    </tr>\n",
       "    <tr>\n",
       "      <th>max</th>\n",
       "      <td>4.997694e+18</td>\n",
       "      <td>2012.000000</td>\n",
       "      <td>1.000000</td>\n",
       "      <td>-6.089429</td>\n",
       "      <td>107.023950</td>\n",
       "      <td>68.000000</td>\n",
       "      <td>-6.091746</td>\n",
       "      <td>107.023660</td>\n",
       "      <td>77.000000</td>\n",
       "      <td>20000.000000</td>\n",
       "    </tr>\n",
       "  </tbody>\n",
       "</table>\n",
       "</div>"
      ],
      "text/plain": [
       "          payCardID  payCardBirthDate     direction  tapInStopsLat  \\\n",
       "count  3.790000e+04      37900.000000  37900.000000   37900.000000   \n",
       "mean   4.250060e+17       1990.089314      0.500633      -6.214838   \n",
       "std    1.321699e+18         13.051482      0.500006       0.057911   \n",
       "min    6.040368e+10       1946.000000      0.000000      -6.394973   \n",
       "25%    1.800442e+14       1982.000000      0.000000      -6.245863   \n",
       "50%    3.507947e+15       1990.000000      1.000000      -6.214587   \n",
       "75%    4.699023e+15       2001.000000      1.000000      -6.175528   \n",
       "max    4.997694e+18       2012.000000      1.000000      -6.089429   \n",
       "\n",
       "       tapInStopsLon  stopStartSeq  tapOutStopsLat  tapOutStopsLon  \\\n",
       "count   37900.000000  37900.000000    36556.000000    36556.000000   \n",
       "mean      106.841554     13.572480       -6.214651      106.841233   \n",
       "std         0.060369     12.237623        0.059022        0.060999   \n",
       "min       106.614730      0.000000       -6.394973      106.614730   \n",
       "25%       106.803470      4.000000       -6.247225      106.801750   \n",
       "50%       106.834830     10.000000       -6.214718      106.834580   \n",
       "75%       106.882270     19.000000       -6.174736      106.883030   \n",
       "max       107.023950     68.000000       -6.091746      107.023660   \n",
       "\n",
       "         stopEndSeq     payAmount  \n",
       "count  36556.000000  36893.000000  \n",
       "mean      21.219909   2699.712683  \n",
       "std       13.800689   4212.225592  \n",
       "min        1.000000      0.000000  \n",
       "25%       11.000000      0.000000  \n",
       "50%       18.000000   3500.000000  \n",
       "75%       29.000000   3500.000000  \n",
       "max       77.000000  20000.000000  "
      ]
     },
     "execution_count": 5,
     "metadata": {},
     "output_type": "execute_result"
    }
   ],
   "source": [
    "df.describe()"
   ]
  },
  {
   "cell_type": "code",
   "execution_count": 6,
   "id": "68e6dbb1-0f13-4e7b-bcf1-75a51a847073",
   "metadata": {},
   "outputs": [
    {
     "data": {
      "text/plain": [
       "transID                0\n",
       "payCardID              0\n",
       "payCardBank            0\n",
       "payCardName            0\n",
       "payCardSex             0\n",
       "payCardBirthDate       0\n",
       "corridorID          1257\n",
       "corridorName        1930\n",
       "direction              0\n",
       "tapInStops          1213\n",
       "tapInStopsName         0\n",
       "tapInStopsLat          0\n",
       "tapInStopsLon          0\n",
       "stopStartSeq           0\n",
       "tapInTime              0\n",
       "tapOutStops         2289\n",
       "tapOutStopsName     1344\n",
       "tapOutStopsLat      1344\n",
       "tapOutStopsLon      1344\n",
       "stopEndSeq          1344\n",
       "tapOutTime          1344\n",
       "payAmount           1007\n",
       "dtype: int64"
      ]
     },
     "execution_count": 6,
     "metadata": {},
     "output_type": "execute_result"
    }
   ],
   "source": [
    "df.isnull().sum()"
   ]
  },
  {
   "cell_type": "markdown",
   "id": "02b3ea26-a501-4d92-bd7a-832d42a8ad16",
   "metadata": {},
   "source": [
    "Dataset ini terdiri dari 37.900 baris data transaksi\n",
    "\n",
    "Temuan Utama dan Implikasi Bisnis\n",
    "\n",
    "1. Anomali Pendapatan (payAmount): Ini adalah masalah paling signifikan dalam dataset. Nilai transaksi maksimum (max) mencapai 20.000, yang sangat jauh di atas rata-rata (mean) 2.699,7 dan 75% transaksi lainnya yang berada di bawah 3.500. Nilai ekstrem ini adalah outlier yang perlu diwaspadai. Keberadaannya dapat mengacaukan analisis total pendapatan dan rata-rata per transaksi, sehingga hasilnya tidak akurat. Selain itu, jumlah baris (count) pada kolom ini hanya 36.893, yang berarti ada 1.007 transaksi yang memiliki nilai pendapatan kosong, hal inii perlu ditangani.\n",
    "\n",
    "2. Identitas dan Usia Kartu (payCardId & payCardBirthDate): Tidak ada data yang hilang di kedua kolom ini, yang sangat baik untuk analisis. Namun, kolom payCardBirthDate yang saat ini berformat numerik perlu diubah ke tipe data datetime. Langkah ini penting untuk menganalisis pola penggunaan berdasarkan usia kartu atau tren dari waktu ke waktu.\n",
    "\n",
    "3. Data Perjalanan: Kolom-kolom seperti tapInStopsLat, tapInStopsLon, dan direction terlihat wajar dan konsisten dengan data perjalanan. Karena fokus utama analisis ini adalah frekuensi dan pendapatan, kolom-kolom ini tidak perlu diprioritaskan untuk pembersihan mendalam."
   ]
  },
  {
   "cell_type": "markdown",
   "id": "16f828d1-f0e1-4930-ac44-1dfdcdac5ae6",
   "metadata": {},
   "source": [
    "## Menangani Anomali pada Kolom payAmount"
   ]
  },
  {
   "cell_type": "markdown",
   "id": "4cfc0e09-af2e-4c6f-a59e-d62b156eb6a1",
   "metadata": {},
   "source": [
    "A. Mengisi Nilai Kosong\n",
    "\n",
    "Karena kolom payAmount memiliki outlier, kita akan menggunakan median untuk mengisi nilai yang kosong. Median adalah pilihan terbaik karena tidak terpengaruh oleh nilai ekstrem."
   ]
  },
  {
   "cell_type": "code",
   "execution_count": 7,
   "id": "d45c2a39-4c0e-459a-8c67-933f4bb732b2",
   "metadata": {},
   "outputs": [
    {
     "data": {
      "text/plain": [
       "3500.0"
      ]
     },
     "execution_count": 7,
     "metadata": {},
     "output_type": "execute_result"
    }
   ],
   "source": [
    "# Hitung nilai median dari kolom 'payAmount'\n",
    "median_payamount = df['payAmount'].median()\n",
    "median_payamount"
   ]
  },
  {
   "cell_type": "code",
   "execution_count": 8,
   "id": "5de482b0-01be-4d4e-bb74-c6dd83e52bfd",
   "metadata": {},
   "outputs": [
    {
     "data": {
      "text/plain": [
       "0         3500.0\n",
       "1         3500.0\n",
       "2         3500.0\n",
       "3         3500.0\n",
       "4         3500.0\n",
       "          ...   \n",
       "37895     3500.0\n",
       "37896     3500.0\n",
       "37897    20000.0\n",
       "37898        0.0\n",
       "37899     3500.0\n",
       "Name: payAmount, Length: 37900, dtype: float64"
      ]
     },
     "execution_count": 8,
     "metadata": {},
     "output_type": "execute_result"
    }
   ],
   "source": [
    "# Isi nilai kosong (NaN) dengan median\n",
    "df['payAmount'] = df['payAmount'].fillna(median_payamount)\n",
    "df['payAmount']"
   ]
  },
  {
   "cell_type": "code",
   "execution_count": 9,
   "id": "356b8ef8-046e-4cac-9df2-93ea81b55193",
   "metadata": {},
   "outputs": [
    {
     "name": "stdout",
     "output_type": "stream",
     "text": [
      "37900\n"
     ]
    }
   ],
   "source": [
    "# Cek kembali jumlah nilai non-kosong untuk konfirmasi\n",
    "print(df['payAmount'].count())"
   ]
  },
  {
   "cell_type": "markdown",
   "id": "b4d562e7-26d4-4cd1-b260-0efbdc430183",
   "metadata": {},
   "source": [
    "B. Menangani Outlier\n",
    "\n",
    "Kita akan menggunakan metode Interquartile Range (IQR) untuk mengidentifikasi dan menangani outlier. Caranya adalah dengan \"membatasi\" nilai ekstrem agar tidak terlalu jauh dari mayoritas data."
   ]
  },
  {
   "cell_type": "code",
   "execution_count": 10,
   "id": "37f6231f-6201-4dd7-95ed-6421264291ae",
   "metadata": {},
   "outputs": [
    {
     "data": {
      "text/plain": [
       "np.float64(3500.0)"
      ]
     },
     "execution_count": 10,
     "metadata": {},
     "output_type": "execute_result"
    }
   ],
   "source": [
    "# Hitung kuartil pertama (Q1) dan kuartil ketiga (Q3)\n",
    "Q1 = df['payAmount'].quantile(0.25)\n",
    "Q3 = df['payAmount'].quantile(0.75)\n",
    "IQR = Q3 - Q1\n",
    "IQR"
   ]
  },
  {
   "cell_type": "code",
   "execution_count": 11,
   "id": "e678996d-0b5a-409c-ab67-432da9164c18",
   "metadata": {},
   "outputs": [],
   "source": [
    "# Tentukan batas atas dan bawah untuk outlier\n",
    "lower_bound = Q1 - 1.5 * IQR\n",
    "upper_bound = Q3 + 1.5 * IQR"
   ]
  },
  {
   "cell_type": "code",
   "execution_count": 12,
   "id": "ac1cebc4-4233-47a4-853f-6ade5972bfcf",
   "metadata": {},
   "outputs": [
    {
     "data": {
      "text/plain": [
       "np.float64(-5250.0)"
      ]
     },
     "execution_count": 12,
     "metadata": {},
     "output_type": "execute_result"
    }
   ],
   "source": [
    "lower_bound"
   ]
  },
  {
   "cell_type": "code",
   "execution_count": 13,
   "id": "1a130cc9-f9af-43af-9cb7-c807468ae1f8",
   "metadata": {},
   "outputs": [
    {
     "data": {
      "text/plain": [
       "np.float64(8750.0)"
      ]
     },
     "execution_count": 13,
     "metadata": {},
     "output_type": "execute_result"
    }
   ],
   "source": [
    "upper_bound"
   ]
  },
  {
   "cell_type": "code",
   "execution_count": 14,
   "id": "08db2074-944b-4dff-8d3d-262caa2fb000",
   "metadata": {},
   "outputs": [
    {
     "name": "stdout",
     "output_type": "stream",
     "text": [
      "Batas Bawah: -5250.0\n",
      "Batas Atas: 8750.0\n",
      "Jumlah outlier di atas batas atas: 1742\n"
     ]
    }
   ],
   "source": [
    "# Cek beberapa data outlier yang akan ditangani\n",
    "print(f\"Batas Bawah: {lower_bound}\")\n",
    "print(f\"Batas Atas: {upper_bound}\")\n",
    "print(f\"Jumlah outlier di atas batas atas: {len(df[df['payAmount'] > upper_bound])}\")"
   ]
  },
  {
   "cell_type": "code",
   "execution_count": 15,
   "id": "75e0b2ff-2461-4808-9b19-01d27cb01611",
   "metadata": {},
   "outputs": [],
   "source": [
    "# Tangani outlier dengan 'capping' (membatasi nilai)\n",
    "df['payAmount'] = df['payAmount'].apply(lambda x: upper_bound if x > upper_bound else x)\n",
    "df['payAmount'] = df['payAmount'].apply(lambda x: lower_bound if x < lower_bound else x)"
   ]
  },
  {
   "cell_type": "code",
   "execution_count": 16,
   "id": "7dedb0b0-f4f8-4cb8-9610-c45a8df0cc4e",
   "metadata": {},
   "outputs": [
    {
     "data": {
      "text/plain": [
       "0        3500.0\n",
       "1        3500.0\n",
       "2        3500.0\n",
       "3        3500.0\n",
       "4        3500.0\n",
       "          ...  \n",
       "37895    3500.0\n",
       "37896    3500.0\n",
       "37897    8750.0\n",
       "37898       0.0\n",
       "37899    3500.0\n",
       "Name: payAmount, Length: 37900, dtype: float64"
      ]
     },
     "execution_count": 16,
     "metadata": {},
     "output_type": "execute_result"
    }
   ],
   "source": [
    "df['payAmount']"
   ]
  },
  {
   "cell_type": "markdown",
   "id": "80364590-f442-4f8d-bf18-1cc2519b732f",
   "metadata": {},
   "source": [
    "## Mengubah Tipe Data Kolom payCardBirthDate"
   ]
  },
  {
   "cell_type": "code",
   "execution_count": 17,
   "id": "db48c633-9e5c-4b90-af7c-d52c065bc889",
   "metadata": {},
   "outputs": [
    {
     "data": {
      "text/plain": [
       "0       2008-01-01\n",
       "1       1997-01-01\n",
       "2       1992-01-01\n",
       "3       1978-01-01\n",
       "4       1982-01-01\n",
       "           ...    \n",
       "37895   2004-01-01\n",
       "37896   1974-01-01\n",
       "37897   1976-01-01\n",
       "37898   1976-01-01\n",
       "37899   1985-01-01\n",
       "Name: payCardBirthDate, Length: 37900, dtype: datetime64[ns]"
      ]
     },
     "execution_count": 17,
     "metadata": {},
     "output_type": "execute_result"
    }
   ],
   "source": [
    "# Ubah kolom 'payCardBirthDate' ke format datetime\n",
    "df['payCardBirthDate'] = pd.to_datetime(df['payCardBirthDate'], format='%Y')\n",
    "df['payCardBirthDate'] "
   ]
  },
  {
   "cell_type": "code",
   "execution_count": 32,
   "id": "73f63177-ca55-4a62-9066-47a155d951d2",
   "metadata": {},
   "outputs": [
    {
     "name": "stdout",
     "output_type": "stream",
     "text": [
      "datetime64[ns]\n"
     ]
    }
   ],
   "source": [
    "# Cek tipe data setelah diubah\n",
    "print(df['payCardBirthDate'].dtype)"
   ]
  },
  {
   "cell_type": "markdown",
   "id": "fa265dbf-ace6-4258-b400-131600dd3f7f",
   "metadata": {},
   "source": [
    "##  Tangani Data Duplikat"
   ]
  },
  {
   "cell_type": "code",
   "execution_count": 19,
   "id": "9f5608f7-a90b-4cd3-8a2a-2fd183ab1ad6",
   "metadata": {},
   "outputs": [
    {
     "data": {
      "text/html": [
       "<div>\n",
       "<style scoped>\n",
       "    .dataframe tbody tr th:only-of-type {\n",
       "        vertical-align: middle;\n",
       "    }\n",
       "\n",
       "    .dataframe tbody tr th {\n",
       "        vertical-align: top;\n",
       "    }\n",
       "\n",
       "    .dataframe thead th {\n",
       "        text-align: right;\n",
       "    }\n",
       "</style>\n",
       "<table border=\"1\" class=\"dataframe\">\n",
       "  <thead>\n",
       "    <tr style=\"text-align: right;\">\n",
       "      <th></th>\n",
       "      <th>transID</th>\n",
       "      <th>payCardID</th>\n",
       "      <th>payCardBank</th>\n",
       "      <th>payCardName</th>\n",
       "      <th>payCardSex</th>\n",
       "      <th>payCardBirthDate</th>\n",
       "      <th>corridorID</th>\n",
       "      <th>corridorName</th>\n",
       "      <th>direction</th>\n",
       "      <th>tapInStops</th>\n",
       "      <th>...</th>\n",
       "      <th>tapInStopsLon</th>\n",
       "      <th>stopStartSeq</th>\n",
       "      <th>tapInTime</th>\n",
       "      <th>tapOutStops</th>\n",
       "      <th>tapOutStopsName</th>\n",
       "      <th>tapOutStopsLat</th>\n",
       "      <th>tapOutStopsLon</th>\n",
       "      <th>stopEndSeq</th>\n",
       "      <th>tapOutTime</th>\n",
       "      <th>payAmount</th>\n",
       "    </tr>\n",
       "  </thead>\n",
       "  <tbody>\n",
       "    <tr>\n",
       "      <th>0</th>\n",
       "      <td>EIIW227B8L34VB</td>\n",
       "      <td>180062659848800</td>\n",
       "      <td>emoney</td>\n",
       "      <td>Bajragin Usada</td>\n",
       "      <td>M</td>\n",
       "      <td>2008-01-01</td>\n",
       "      <td>5</td>\n",
       "      <td>Matraman Baru - Ancol</td>\n",
       "      <td>1.0</td>\n",
       "      <td>P00142</td>\n",
       "      <td>...</td>\n",
       "      <td>106.84402</td>\n",
       "      <td>7</td>\n",
       "      <td>2023-04-03 05:21:44</td>\n",
       "      <td>P00253</td>\n",
       "      <td>Tegalan</td>\n",
       "      <td>-6.203101</td>\n",
       "      <td>106.85715</td>\n",
       "      <td>12.0</td>\n",
       "      <td>2023-04-03 06:00:53</td>\n",
       "      <td>3500.0</td>\n",
       "    </tr>\n",
       "    <tr>\n",
       "      <th>1</th>\n",
       "      <td>LGXO740D2N47GZ</td>\n",
       "      <td>4885331907664776</td>\n",
       "      <td>dki</td>\n",
       "      <td>Gandi Widodo</td>\n",
       "      <td>F</td>\n",
       "      <td>1997-01-01</td>\n",
       "      <td>6C</td>\n",
       "      <td>Stasiun Tebet - Karet via Patra Kuningan</td>\n",
       "      <td>0.0</td>\n",
       "      <td>B01963P</td>\n",
       "      <td>...</td>\n",
       "      <td>106.83302</td>\n",
       "      <td>13</td>\n",
       "      <td>2023-04-03 05:42:44</td>\n",
       "      <td>B03307P</td>\n",
       "      <td>Sampoerna Strategic</td>\n",
       "      <td>-6.217152</td>\n",
       "      <td>106.81892</td>\n",
       "      <td>21.0</td>\n",
       "      <td>2023-04-03 06:40:01</td>\n",
       "      <td>3500.0</td>\n",
       "    </tr>\n",
       "    <tr>\n",
       "      <th>2</th>\n",
       "      <td>DJWR385V2U57TO</td>\n",
       "      <td>4996225095064169</td>\n",
       "      <td>dki</td>\n",
       "      <td>Emong Wastuti</td>\n",
       "      <td>F</td>\n",
       "      <td>1992-01-01</td>\n",
       "      <td>R1A</td>\n",
       "      <td>Pantai Maju - Kota</td>\n",
       "      <td>0.0</td>\n",
       "      <td>B00499P</td>\n",
       "      <td>...</td>\n",
       "      <td>106.81435</td>\n",
       "      <td>38</td>\n",
       "      <td>2023-04-03 05:59:06</td>\n",
       "      <td>B04962P</td>\n",
       "      <td>Simpang Kunir Kemukus</td>\n",
       "      <td>-6.133731</td>\n",
       "      <td>106.81475</td>\n",
       "      <td>39.0</td>\n",
       "      <td>2023-04-03 06:50:55</td>\n",
       "      <td>3500.0</td>\n",
       "    </tr>\n",
       "    <tr>\n",
       "      <th>3</th>\n",
       "      <td>JTUZ800U7C86EH</td>\n",
       "      <td>639099174703</td>\n",
       "      <td>flazz</td>\n",
       "      <td>Surya Wacana</td>\n",
       "      <td>F</td>\n",
       "      <td>1978-01-01</td>\n",
       "      <td>11D</td>\n",
       "      <td>Pulo Gebang - Pulo Gadung 2 via PIK</td>\n",
       "      <td>0.0</td>\n",
       "      <td>B05587P</td>\n",
       "      <td>...</td>\n",
       "      <td>106.93526</td>\n",
       "      <td>23</td>\n",
       "      <td>2023-04-03 05:44:51</td>\n",
       "      <td>B03090P</td>\n",
       "      <td>Raya Penggilingan</td>\n",
       "      <td>-6.183068</td>\n",
       "      <td>106.93194</td>\n",
       "      <td>29.0</td>\n",
       "      <td>2023-04-03 06:28:16</td>\n",
       "      <td>3500.0</td>\n",
       "    </tr>\n",
       "    <tr>\n",
       "      <th>4</th>\n",
       "      <td>VMLO535V7F95NJ</td>\n",
       "      <td>570928206772</td>\n",
       "      <td>flazz</td>\n",
       "      <td>Embuh Mardhiyah</td>\n",
       "      <td>M</td>\n",
       "      <td>1982-01-01</td>\n",
       "      <td>12</td>\n",
       "      <td>Tanjung Priok - Pluit</td>\n",
       "      <td>0.0</td>\n",
       "      <td>P00239</td>\n",
       "      <td>...</td>\n",
       "      <td>106.88900</td>\n",
       "      <td>5</td>\n",
       "      <td>2023-04-03 06:17:35</td>\n",
       "      <td>P00098</td>\n",
       "      <td>Kali Besar Barat</td>\n",
       "      <td>-6.135355</td>\n",
       "      <td>106.81143</td>\n",
       "      <td>15.0</td>\n",
       "      <td>2023-04-03 06:57:03</td>\n",
       "      <td>3500.0</td>\n",
       "    </tr>\n",
       "    <tr>\n",
       "      <th>...</th>\n",
       "      <td>...</td>\n",
       "      <td>...</td>\n",
       "      <td>...</td>\n",
       "      <td>...</td>\n",
       "      <td>...</td>\n",
       "      <td>...</td>\n",
       "      <td>...</td>\n",
       "      <td>...</td>\n",
       "      <td>...</td>\n",
       "      <td>...</td>\n",
       "      <td>...</td>\n",
       "      <td>...</td>\n",
       "      <td>...</td>\n",
       "      <td>...</td>\n",
       "      <td>...</td>\n",
       "      <td>...</td>\n",
       "      <td>...</td>\n",
       "      <td>...</td>\n",
       "      <td>...</td>\n",
       "      <td>...</td>\n",
       "      <td>...</td>\n",
       "    </tr>\n",
       "    <tr>\n",
       "      <th>37895</th>\n",
       "      <td>ZWEC949B8Q87QG</td>\n",
       "      <td>4685818286724028395</td>\n",
       "      <td>brizzi</td>\n",
       "      <td>Kamila Mahendra</td>\n",
       "      <td>F</td>\n",
       "      <td>2004-01-01</td>\n",
       "      <td>6B</td>\n",
       "      <td>Ragunan - MH Thamrin via Semanggi</td>\n",
       "      <td>1.0</td>\n",
       "      <td>P00261</td>\n",
       "      <td>...</td>\n",
       "      <td>106.82309</td>\n",
       "      <td>2</td>\n",
       "      <td>2023-04-21 18:18:37</td>\n",
       "      <td>P00228</td>\n",
       "      <td>SMK 57</td>\n",
       "      <td>-6.290967</td>\n",
       "      <td>106.82365</td>\n",
       "      <td>13.0</td>\n",
       "      <td>2023-04-21 19:55:49</td>\n",
       "      <td>3500.0</td>\n",
       "    </tr>\n",
       "    <tr>\n",
       "      <th>37896</th>\n",
       "      <td>YHHK837P6Y95GN</td>\n",
       "      <td>6502902290603767</td>\n",
       "      <td>dki</td>\n",
       "      <td>Titi Siregar</td>\n",
       "      <td>M</td>\n",
       "      <td>1974-01-01</td>\n",
       "      <td>9N</td>\n",
       "      <td>Pinang Ranti - Pramuka</td>\n",
       "      <td>1.0</td>\n",
       "      <td>P00064</td>\n",
       "      <td>...</td>\n",
       "      <td>106.88116</td>\n",
       "      <td>1</td>\n",
       "      <td>2023-04-18 21:52:31</td>\n",
       "      <td>P00179</td>\n",
       "      <td>Pinang Ranti</td>\n",
       "      <td>-6.291075</td>\n",
       "      <td>106.88634</td>\n",
       "      <td>2.0</td>\n",
       "      <td>2023-04-18 22:28:22</td>\n",
       "      <td>3500.0</td>\n",
       "    </tr>\n",
       "    <tr>\n",
       "      <th>37897</th>\n",
       "      <td>YXPP627N4G95HO</td>\n",
       "      <td>213159426675861</td>\n",
       "      <td>emoney</td>\n",
       "      <td>drg. Zahra Nashiruddin</td>\n",
       "      <td>F</td>\n",
       "      <td>1976-01-01</td>\n",
       "      <td>1T</td>\n",
       "      <td>Cibubur - Balai Kota</td>\n",
       "      <td>1.0</td>\n",
       "      <td>B02873P</td>\n",
       "      <td>...</td>\n",
       "      <td>106.81676</td>\n",
       "      <td>12</td>\n",
       "      <td>2023-04-04 10:29:47</td>\n",
       "      <td>B00226P</td>\n",
       "      <td>Buperta Cibubur</td>\n",
       "      <td>-6.370321</td>\n",
       "      <td>106.89628</td>\n",
       "      <td>14.0</td>\n",
       "      <td>2023-04-04 13:27:25</td>\n",
       "      <td>8750.0</td>\n",
       "    </tr>\n",
       "    <tr>\n",
       "      <th>37898</th>\n",
       "      <td>RGVK175U2U98UV</td>\n",
       "      <td>377840859133591</td>\n",
       "      <td>emoney</td>\n",
       "      <td>Ana Agustina</td>\n",
       "      <td>M</td>\n",
       "      <td>1976-01-01</td>\n",
       "      <td>JAK.13</td>\n",
       "      <td>Tanah Abang - Jembatan Lima</td>\n",
       "      <td>1.0</td>\n",
       "      <td>B02505P</td>\n",
       "      <td>...</td>\n",
       "      <td>106.80954</td>\n",
       "      <td>33</td>\n",
       "      <td>2023-04-15 19:59:26</td>\n",
       "      <td>B01787P</td>\n",
       "      <td>JPO Blok G</td>\n",
       "      <td>-6.188861</td>\n",
       "      <td>106.81135</td>\n",
       "      <td>34.0</td>\n",
       "      <td>2023-04-15 20:27:50</td>\n",
       "      <td>0.0</td>\n",
       "    </tr>\n",
       "    <tr>\n",
       "      <th>37899</th>\n",
       "      <td>FMZZ963S4B68ZP</td>\n",
       "      <td>501862539795</td>\n",
       "      <td>flazz</td>\n",
       "      <td>drg. Leo Najmudin</td>\n",
       "      <td>F</td>\n",
       "      <td>1985-01-01</td>\n",
       "      <td>13</td>\n",
       "      <td>Ciledug - Tendean</td>\n",
       "      <td>0.0</td>\n",
       "      <td>P00001</td>\n",
       "      <td>...</td>\n",
       "      <td>106.74786</td>\n",
       "      <td>2</td>\n",
       "      <td>2023-04-12 21:08:12</td>\n",
       "      <td>P00106</td>\n",
       "      <td>Kebayoran Lama</td>\n",
       "      <td>-6.238340</td>\n",
       "      <td>106.77752</td>\n",
       "      <td>7.0</td>\n",
       "      <td>2023-04-12 21:34:53</td>\n",
       "      <td>3500.0</td>\n",
       "    </tr>\n",
       "  </tbody>\n",
       "</table>\n",
       "<p>37900 rows × 22 columns</p>\n",
       "</div>"
      ],
      "text/plain": [
       "              transID            payCardID payCardBank  \\\n",
       "0      EIIW227B8L34VB      180062659848800      emoney   \n",
       "1      LGXO740D2N47GZ     4885331907664776         dki   \n",
       "2      DJWR385V2U57TO     4996225095064169         dki   \n",
       "3      JTUZ800U7C86EH         639099174703       flazz   \n",
       "4      VMLO535V7F95NJ         570928206772       flazz   \n",
       "...               ...                  ...         ...   \n",
       "37895  ZWEC949B8Q87QG  4685818286724028395      brizzi   \n",
       "37896  YHHK837P6Y95GN     6502902290603767         dki   \n",
       "37897  YXPP627N4G95HO      213159426675861      emoney   \n",
       "37898  RGVK175U2U98UV      377840859133591      emoney   \n",
       "37899  FMZZ963S4B68ZP         501862539795       flazz   \n",
       "\n",
       "                  payCardName payCardSex payCardBirthDate corridorID  \\\n",
       "0              Bajragin Usada          M       2008-01-01          5   \n",
       "1                Gandi Widodo          F       1997-01-01         6C   \n",
       "2               Emong Wastuti          F       1992-01-01        R1A   \n",
       "3                Surya Wacana          F       1978-01-01        11D   \n",
       "4             Embuh Mardhiyah          M       1982-01-01         12   \n",
       "...                       ...        ...              ...        ...   \n",
       "37895         Kamila Mahendra          F       2004-01-01         6B   \n",
       "37896            Titi Siregar          M       1974-01-01         9N   \n",
       "37897  drg. Zahra Nashiruddin          F       1976-01-01         1T   \n",
       "37898            Ana Agustina          M       1976-01-01     JAK.13   \n",
       "37899       drg. Leo Najmudin          F       1985-01-01         13   \n",
       "\n",
       "                                   corridorName  direction tapInStops  ...  \\\n",
       "0                         Matraman Baru - Ancol        1.0     P00142  ...   \n",
       "1      Stasiun Tebet - Karet via Patra Kuningan        0.0    B01963P  ...   \n",
       "2                            Pantai Maju - Kota        0.0    B00499P  ...   \n",
       "3           Pulo Gebang - Pulo Gadung 2 via PIK        0.0    B05587P  ...   \n",
       "4                         Tanjung Priok - Pluit        0.0     P00239  ...   \n",
       "...                                         ...        ...        ...  ...   \n",
       "37895         Ragunan - MH Thamrin via Semanggi        1.0     P00261  ...   \n",
       "37896                    Pinang Ranti - Pramuka        1.0     P00064  ...   \n",
       "37897                      Cibubur - Balai Kota        1.0    B02873P  ...   \n",
       "37898               Tanah Abang - Jembatan Lima        1.0    B02505P  ...   \n",
       "37899                         Ciledug - Tendean        0.0     P00001  ...   \n",
       "\n",
       "      tapInStopsLon  stopStartSeq            tapInTime  tapOutStops  \\\n",
       "0         106.84402             7  2023-04-03 05:21:44       P00253   \n",
       "1         106.83302            13  2023-04-03 05:42:44      B03307P   \n",
       "2         106.81435            38  2023-04-03 05:59:06      B04962P   \n",
       "3         106.93526            23  2023-04-03 05:44:51      B03090P   \n",
       "4         106.88900             5  2023-04-03 06:17:35       P00098   \n",
       "...             ...           ...                  ...          ...   \n",
       "37895     106.82309             2  2023-04-21 18:18:37       P00228   \n",
       "37896     106.88116             1  2023-04-18 21:52:31       P00179   \n",
       "37897     106.81676            12  2023-04-04 10:29:47      B00226P   \n",
       "37898     106.80954            33  2023-04-15 19:59:26      B01787P   \n",
       "37899     106.74786             2  2023-04-12 21:08:12       P00106   \n",
       "\n",
       "             tapOutStopsName tapOutStopsLat tapOutStopsLon  stopEndSeq  \\\n",
       "0                    Tegalan      -6.203101      106.85715        12.0   \n",
       "1        Sampoerna Strategic      -6.217152      106.81892        21.0   \n",
       "2      Simpang Kunir Kemukus      -6.133731      106.81475        39.0   \n",
       "3          Raya Penggilingan      -6.183068      106.93194        29.0   \n",
       "4           Kali Besar Barat      -6.135355      106.81143        15.0   \n",
       "...                      ...            ...            ...         ...   \n",
       "37895                 SMK 57      -6.290967      106.82365        13.0   \n",
       "37896           Pinang Ranti      -6.291075      106.88634         2.0   \n",
       "37897        Buperta Cibubur      -6.370321      106.89628        14.0   \n",
       "37898             JPO Blok G      -6.188861      106.81135        34.0   \n",
       "37899         Kebayoran Lama      -6.238340      106.77752         7.0   \n",
       "\n",
       "                tapOutTime  payAmount  \n",
       "0      2023-04-03 06:00:53     3500.0  \n",
       "1      2023-04-03 06:40:01     3500.0  \n",
       "2      2023-04-03 06:50:55     3500.0  \n",
       "3      2023-04-03 06:28:16     3500.0  \n",
       "4      2023-04-03 06:57:03     3500.0  \n",
       "...                    ...        ...  \n",
       "37895  2023-04-21 19:55:49     3500.0  \n",
       "37896  2023-04-18 22:28:22     3500.0  \n",
       "37897  2023-04-04 13:27:25     8750.0  \n",
       "37898  2023-04-15 20:27:50        0.0  \n",
       "37899  2023-04-12 21:34:53     3500.0  \n",
       "\n",
       "[37900 rows x 22 columns]"
      ]
     },
     "execution_count": 19,
     "metadata": {},
     "output_type": "execute_result"
    }
   ],
   "source": [
    "# Cek dan hapus duplikat pada seluruh baris\n",
    "df_clean = df.drop_duplicates(keep='first')\n",
    "df_clean"
   ]
  },
  {
   "cell_type": "code",
   "execution_count": 20,
   "id": "7a42644c-a34d-4781-ba50-0e1d230159fd",
   "metadata": {},
   "outputs": [
    {
     "name": "stdout",
     "output_type": "stream",
     "text": [
      "Jumlah baris sebelum dihapus duplikat: 37900\n",
      "Jumlah baris setelah dihapus duplikat: 37900\n"
     ]
    }
   ],
   "source": [
    "# Tampilkan jumlah baris sebelum dan sesudah penghapusan\n",
    "print(f\"Jumlah baris sebelum dihapus duplikat: {df.shape[0]}\")\n",
    "print(f\"Jumlah baris setelah dihapus duplikat: {df_clean.shape[0]}\")"
   ]
  },
  {
   "cell_type": "markdown",
   "id": "a08e6967-8516-45de-a922-58455e4c5bfd",
   "metadata": {},
   "source": [
    "## Ekstrak nama hari dan jam dari kolom 'tapInTime' untuk analisis tambahan"
   ]
  },
  {
   "cell_type": "code",
   "execution_count": 33,
   "id": "c4a6a5ff-9bc8-4358-8190-72e6979b7e58",
   "metadata": {},
   "outputs": [],
   "source": [
    "# Ekstrak nama hari dan jam dari kolom 'tapInTime' untuk analisis tambahan\n",
    "# Langkah 1: Ubah kolom 'tapInTime' ke format datetime\n",
    "df['tapInTime'] = pd.to_datetime(df['tapInTime'])\n",
    "\n",
    "# Langkah 2: Mengekstrak jamnya\n",
    "df['hour'] = df['tapInTime'].dt.hour\n",
    "df['day'] = df['tapInTime'].dt.day_name()\n"
   ]
  },
  {
   "cell_type": "markdown",
   "id": "bbfbc9af-3e80-496a-a530-1d38baf8844f",
   "metadata": {},
   "source": [
    "# Bab 3: Analisis & Visualisasi"
   ]
  },
  {
   "cell_type": "markdown",
   "id": "7c3c24c1-3d47-4096-9cd5-90ae684ab534",
   "metadata": {},
   "source": [
    "## Analisis Deskriptif"
   ]
  },
  {
   "cell_type": "markdown",
   "id": "d5578a4e-682d-41d6-b1b1-f96e74114416",
   "metadata": {},
   "source": [
    "Kita akan menghitung total transaksi dan pendapatan per bank untuk mendapatkan gambaran umum."
   ]
  },
  {
   "cell_type": "code",
   "execution_count": 22,
   "id": "dd27dbb9-e652-4ec2-b4ef-30ecdff0d408",
   "metadata": {},
   "outputs": [],
   "source": [
    "# Mengelompokkan data berdasarkan 'payCardBank'\n",
    "bank_analysis = df.groupby('payCardBank').agg(\n",
    "    # Menghitung jumlah transaksi (menggunakan count)\n",
    "    total_transactions=('transID', 'count'),\n",
    "    # Menghitung total pendapatan (menggunakan sum)\n",
    "    total_revenue=('payAmount', 'sum')\n",
    ").reset_index()"
   ]
  },
  {
   "cell_type": "code",
   "execution_count": 23,
   "id": "a9548f42-bdad-4b9b-8f08-c25060906824",
   "metadata": {},
   "outputs": [
    {
     "name": "stdout",
     "output_type": "stream",
     "text": [
      "Analisis Pola Penggunaan Berdasarkan Bank:\n",
      "  payCardBank  total_transactions  total_revenue\n",
      "2         dki               18743     38374000.0\n",
      "3      emoney                6866     16367750.0\n",
      "1      brizzi                3531      9087750.0\n",
      "4       flazz                3234      7973000.0\n",
      "5      online                2869      5923750.0\n",
      "0         bni                2657      5801250.0\n"
     ]
    }
   ],
   "source": [
    "# Mengurutkan hasilnya berdasarkan total transaksi dari yang tertinggi\n",
    "bank_analysis_sorted = bank_analysis.sort_values(by='total_transactions', ascending=False)\n",
    "\n",
    "print(\"Analisis Pola Penggunaan Berdasarkan Bank:\")\n",
    "print(bank_analysis_sorted)"
   ]
  },
  {
   "cell_type": "markdown",
   "id": "1dddf828-2663-45b1-acdf-abb831fb4454",
   "metadata": {},
   "source": [
    "## Uji Hipotesis"
   ]
  },
  {
   "cell_type": "markdown",
   "id": "890a64b6-737b-4491-bf7f-63d08369b4cc",
   "metadata": {},
   "source": [
    "Setelah melihat pola dari analisis deskriptif, kita akan memvalidasi temuan dengan uji statistik."
   ]
  },
  {
   "cell_type": "code",
   "execution_count": 24,
   "id": "1f982cc1-5762-4c2b-8f86-ebe8bd5ff533",
   "metadata": {},
   "outputs": [],
   "source": [
    "# Mengambil data 'payAmount' untuk dua bank dengan jumlah transaksi tertinggi\n",
    "pay_dki = df[df['payCardBank'] == 'dki']['payAmount']\n",
    "pay_emoney = df[df['payCardBank'] == 'emoney']['payAmount']"
   ]
  },
  {
   "cell_type": "code",
   "execution_count": 25,
   "id": "2cbbd8a9-cd47-426c-969c-e9cf209d206a",
   "metadata": {},
   "outputs": [],
   "source": [
    "# Melakukan t-test untuk membandingkan rata-rata dua kelompok\n",
    "t_stat, p_value = ttest_ind(pay_dki, pay_emoney, equal_var=False)"
   ]
  },
  {
   "cell_type": "code",
   "execution_count": 26,
   "id": "7d1dae16-75ea-40eb-8bdf-de74404f3eec",
   "metadata": {},
   "outputs": [
    {
     "name": "stdout",
     "output_type": "stream",
     "text": [
      "\n",
      "Hasil Uji Hipotesis:\n",
      "t-statistic: -10.434413807971724\n",
      "p-value: 2.242480491419306e-25\n",
      "\n",
      "Karena p-value kurang dari 0.05, kita menolak hipotesis nol.\n",
      "Kesimpulan: Terdapat perbedaan signifikan secara statistik antara rata-rata pendapatan per transaksi Bank DKI dan E-Money.\n"
     ]
    }
   ],
   "source": [
    "# Interpretasi hasilnya\n",
    "alpha = 0.05\n",
    "print(\"\\nHasil Uji Hipotesis:\")\n",
    "print(f\"t-statistic: {t_stat}\")\n",
    "print(f\"p-value: {p_value}\")\n",
    "\n",
    "if p_value < alpha:\n",
    "    print(\"\\nKarena p-value kurang dari 0.05, kita menolak hipotesis nol.\")\n",
    "    print(\"Kesimpulan: Terdapat perbedaan signifikan secara statistik antara rata-rata pendapatan per transaksi Bank DKI dan E-Money.\")\n",
    "else:\n",
    "    print(\"\\nKarena p-value lebih dari 0.05, kita gagal menolak hipotesis nol.\")\n",
    "    print(\"Kesimpulan: Tidak ada perbedaan signifikan secara statistik antara rata-rata pendapatan per transaksi Bank DKI dan E-Money.\")"
   ]
  },
  {
   "cell_type": "markdown",
   "id": "4bd5d55d-7c16-44a0-8637-46e80c7bbb15",
   "metadata": {},
   "source": [
    "## Visualisasi Hasil Analisis"
   ]
  },
  {
   "cell_type": "code",
   "execution_count": 27,
   "id": "96026d02-6b6f-4cb8-9f2d-4272b3028cc0",
   "metadata": {},
   "outputs": [
    {
     "data": {
      "image/png": "[encoded data removed]",
      "text/plain": [
       "<Figure size 1000x600 with 1 Axes>"
      ]
     },
     "metadata": {},
     "output_type": "display_data"
    }
   ],
   "source": [
    "# Bar chart untuk total transaksi per bank\n",
    "plt.figure(figsize=(10, 6))\n",
    "sns.barplot(x='payCardBank', y='total_transactions', data=bank_analysis_sorted)\n",
    "plt.title('Total Transaksi Berdasarkan Jenis Bank')\n",
    "plt.xlabel('Jenis Bank')\n",
    "plt.ylabel('Jumlah Transaksi')\n",
    "plt.xticks(rotation=45, ha='right')\n",
    "plt.tight_layout()\n",
    "plt.show()"
   ]
  },
  {
   "cell_type": "code",
   "execution_count": 28,
   "id": "2d500336-4ef8-4175-90e9-740f13e94cff",
   "metadata": {},
   "outputs": [
    {
     "data": {
      "image/png": "[encoded data removed]",
      "text/plain": [
       "<Figure size 1000x600 with 1 Axes>"
      ]
     },
     "metadata": {},
     "output_type": "display_data"
    }
   ],
   "source": [
    "# Bar chart untuk total pendapatan per bank\n",
    "plt.figure(figsize=(10, 6))\n",
    "sns.barplot(x='payCardBank', y='total_revenue', data=bank_analysis_sorted)\n",
    "plt.title('Total Pendapatan Berdasarkan Jenis Bank')\n",
    "plt.xlabel('Jenis Bank')\n",
    "plt.ylabel('Total Pendapatan (Rupiah)')\n",
    "plt.xticks(rotation=45, ha='right')\n",
    "plt.tight_layout()\n",
    "plt.show()"
   ]
  },
  {
   "cell_type": "code",
   "execution_count": 29,
   "id": "3164dc6d-c48a-4048-a79c-589ce4683daa",
   "metadata": {},
   "outputs": [],
   "source": [
    "# Pola Transaksi berdasarkan Jam\n",
    "# Menghitung jumlah transaksi per jam\n",
    "transactions_by_hour = df['hour'].value_counts().sort_index()"
   ]
  },
  {
   "cell_type": "code",
   "execution_count": 30,
   "id": "3316eb82-c65e-4970-868d-d89c2c5e970c",
   "metadata": {},
   "outputs": [
    {
     "data": {
      "image/png": "[encoded data removed]",
      "text/plain": [
       "<Figure size 1200x600 with 1 Axes>"
      ]
     },
     "metadata": {},
     "output_type": "display_data"
    }
   ],
   "source": [
    "# Membuat line plot\n",
    "plt.figure(figsize=(12, 6))\n",
    "sns.lineplot(x=transactions_by_hour.index, y=transactions_by_hour.values)\n",
    "plt.title('Pola Transaksi Transjakarta Berdasarkan Jam')\n",
    "plt.xlabel('Jam')\n",
    "plt.ylabel('Jumlah Transaksi')\n",
    "plt.xticks(np.arange(0, 24, step=1))\n",
    "plt.grid(True)\n",
    "plt.tight_layout()\n",
    "plt.show()"
   ]
  },
  {
   "cell_type": "code",
   "execution_count": 35,
   "id": "1ba9bcc1-5860-41f1-bd98-0162e17c1382",
   "metadata": {},
   "outputs": [
    {
     "data": {
      "image/png": "[encoded data removed]",
      "text/plain": [
       "<Figure size 1000x600 with 1 Axes>"
      ]
     },
     "metadata": {},
     "output_type": "display_data"
    }
   ],
   "source": [
    "# Distribusi Tahun Lahir Pengguna\n",
    "plt.figure(figsize=(10, 6))\n",
    "sns.histplot(data=df_clean, x='payCardBirthDate', bins=20, kde=True, color='skyblue')\n",
    "plt.title('Distribusi Tahun Lahir Pengguna')\n",
    "plt.xlabel('Tahun Lahir')\n",
    "plt.ylabel('Jumlah Transaksi')\n",
    "plt.grid(axis='y', linestyle='--', alpha=0.7)\n",
    "plt.show()"
   ]
  },
  {
   "cell_type": "markdown",
   "id": "a9749fbf-1e85-439e-978c-438e79995bb4",
   "metadata": {},
   "source": [
    "# Bab 4: Kesimpulan & Rekomendasi"
   ]
  },
  {
   "cell_type": "markdown",
   "id": "d380d724-b327-4c0b-ac80-d2bfc764730a",
   "metadata": {},
   "source": [
    "Kesimpulan\n",
    "\n",
    "Berdasarkan analisis data transaksi Transjakarta yang telah dilakukan, ditemukan beberapa karakteristik kunci terkait penggunaan kartu pembayaran:\n",
    "\n",
    "1. Dominasi Pembayaran: Kartu pembayaran Bank DKI adalah yang paling dominan, baik dari segi jumlah transaksi maupun total pendapatan. Ini menunjukkan bahwa Bank DKI merupakan mitra strategis utama dengan basis pengguna terluas di kalangan penumpang Transjakarta.\n",
    "\n",
    "2. Pola Pendapatan Berbeda: Hasil uji hipotesis menunjukkan adanya perbedaan signifikan secara statistik pada rata-rata pendapatan per transaksi antara Bank DKI dan E-Money. Hal ini mengindikasikan adanya perbedaan perilaku pengeluaran di antara pengguna kedua jenis kartu tersebut.\n",
    "\n",
    "3. Pola Penggunaan Harian: Transaksi harian menunjukkan pola yang sangat konsisten dengan jam sibuk (pagi dan sore). Pola ini bisa menjadi dasar yang kuat untuk perencanaan operasional dan pemasaran."
   ]
  },
  {
   "cell_type": "markdown",
   "id": "494aecd5-5fcb-455f-9198-c050bd7836f5",
   "metadata": {},
   "source": [
    "Rekomendasi\n",
    "\n",
    "Untuk mengoptimalkan operasional dan meningkatkan pendapatan, berikut adalah beberapa rekomendasi strategis yang dapat dipertimbangkan oleh manajemen Transjakarta:\n",
    "\n",
    "1. Perkuat Kemitraan dengan Bank DKI: Berikan insentif khusus untuk pengguna kartu Bank DKI melalui program loyalitas atau promosi bersama. Strategi ini akan membantu mempertahankan basis pengguna terbesar dan dapat meningkatkan pendapatan secara lebih lanjut. \n",
    "\n",
    "2. Kembangkan Strategi Promosi yang Bertarget: Lakukan kampanye promosi yang ditargetkan untuk kartu dengan pangsa pasar yang lebih kecil, seperti Flazz atau Brizzi, untuk mendorong diversifikasi alat pembayaran. Promosi ini bisa difokuskan pada waktu-waktu tertentu, misalnya di luar jam sibuk, untuk menyeimbangkan pola penggunaan. \n",
    "\n",
    "3. Optimalkan Operasional Berdasarkan Jam Sibuk: Gunakan data pola transaksi harian untuk mengatur jadwal dan ketersediaan armada bus. Penambahan bus pada jam-jam puncak (pagi dan sore) dapat mengurangi antrean dan meningkatkan kepuasan penumpang. "
   ]
  },
  {
   "cell_type": "code",
   "execution_count": 31,
   "id": "6b100753-1db9-45bc-9a0d-7e88dcd17348",
   "metadata": {},
   "outputs": [],
   "source": [
    "df_clean.to_csv('transjakarta_data_bersih.csv', index=False)"
   ]
  }
 ],
 "metadata": {
  "kernelspec": {
   "display_name": "Python [conda env:base] *",
   "language": "python",
   "name": "conda-base-py"
  },
  "language_info": {
   "codemirror_mode": {
    "name": "ipython",
    "version": 3
   },
   "file_extension": ".py",
   "mimetype": "text/x-python",
   "name": "python",
   "nbconvert_exporter": "python",
   "pygments_lexer": "ipython3",
   "version": "3.13.5"
  }
 },
 "nbformat": 4,
 "nbformat_minor": 5
}
